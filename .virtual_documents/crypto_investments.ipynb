





# Import required libraries and dependencies
import pandas as pd
import hvplot.pandas
from pathlib import Path
from sklearn.cluster import KMeans
from sklearn.decomposition import PCA
from sklearn.preprocessing import StandardScaler


# Load the data into a Pandas DataFrame
df_market_data = pd.read_csv(
    Path("Resources/crypto_market_data.csv"),
    index_col="coin_id")

# Display sample data
df_market_data.head(10)


# Generate summary statistics
df_market_data.describe()


# Plot your data to see what's in your DataFrame
df_market_data.hvplot.line(
    width=800,
    height=400,
    rot=90
)








# Use the `StandardScaler()` module from scikit-learn to normalize the data from the CSV file
scaled_data = StandardScaler().fit_transform(df_market_data)


# Create a DataFrame with the scaled data
df_market_data_scaled = pd.DataFrame(
    scaled_data,
    columns=df_market_data.columns
)

# Copy the crypto names from the original data
df_market_data_scaled["coin_id"] = df_market_data.index

# Set the coinid column as index
df_market_data_scaled = df_market_data_scaled.set_index("coin_id")

# Display sample data
df_market_data_scaled.head()








# Create a list with the number of k-values to try
# Use a range from 1 to 11
# YOUR CODE HERE!
k = list(range(1,11))


# Create an empy list to store the inertia values
# YOUR CODE HERE!
inertia = []


# Create a for loop to compute the inertia with each possible value of k
# Inside the loop:
# 1. Create a KMeans model using the loop counter for the n_clusters
# 2. Fit the model to the data using `df_market_data_scaled`
# 3. Append the model.inertia_ to the inertia list
# YOUR CODE HERE!
for i in k:
    k_model = KMeans(n_clusters = i, random_state = 1)
    k_model.fit(df_market_data_scaled)
    inertia.append(k_model.inertia_)


# Create a dictionary with the data to plot the Elbow curve
# YOUR CODE HERE!
elbow_data = {'k': k, 'inertia': inertia}
# Create a DataFrame with the data to plot the Elbow curve
# YOUR CODE HERE!
elbow_df = pd.DataFrame(elbow_data)
elbow_df.head()


# Plot a line chart with all the inertia values computed with 
# the different values of k to visually identify the optimal value for k.
# YOUR CODE HERE!
elbow_df.hvplot.line(x = 'k', y = 'inertia', title = 'Elbow Curve', xticks = k)











# Initialize the K-Means model using the best value for k
# YOUR CODE HERE!
k_model = KMeans(n_clusters = 4, random_state = 1)   


# Fit the K-Means model using the scaled data
# YOUR CODE HERE!
k_model.fit(df_market_data_scaled)


# Predict the clusters to group the cryptocurrencies using the scaled data
# YOUR CODE HERE!
k_4 = k_model.predict(df_market_data_scaled)
# View the resulting array of cluster values.
# YOUR CODE HERE!
print(k_4)


# Create a copy of the DataFrame
# YOUR CODE HERE!
market_data_scaled_copy = df_market_data_scaled.copy()


# Add a new column to the DataFrame with the predicted clusters
# YOUR CODE HERE!
market_data_scaled_copy['Predict Cluster'] = k_4
# Display sample data
# YOUR CODE HERE!
market_data_scaled_copy.head()


# Create a scatter plot using hvPlot by setting 
# `x="price_change_percentage_24h"` and `y="price_change_percentage_7d"`. 
# Color the graph points with the labels found using K-Means and 
# add the crypto name in the `hover_cols` parameter to identify 
# the cryptocurrency represented by each data point.
# YOUR CODE HERE!
market_data_scaled_copy.hvplot.scatter(
    x = 'price_change_percentage_24h', 
    y ='price_change_percentage_7d', 
    hover_cols = 'coin_id', 
    title = 'Cluster Cryptocurrencies with K-means', 
    xlabel = 'Price Change Percentage 24h',
    ylabel = 'Price Change Percentage 7d',
    by = 'Predict Cluster'
)
                                       








# Create a PCA model instance and set `n_components=3`.
# YOUR CODE HERE!
pca = PCA(n_components = 3)


# Use the PCA model with `fit_transform` to reduce to 
# three principal components.
# YOUR CODE HERE!
pca_transform = pca.fit_transform(df_market_data_scaled)
# View the first five rows of the DataFrame. 
# YOUR CODE HERE!
pca_transform_df = pd.DataFrame(
    pca_transform,
columns = ['PCA1', 'PCA2', 'PCA3']
)
pca_transform_df.head()


# Retrieve the explained variance to determine how much information 
# can be attributed to each principal component.
# YOUR CODE HERE!






# Create a new DataFrame with the PCA data.
# Note: The code for this step is provided for you

# Creating a DataFrame with the PCA data
# YOUR CODE HERE!

# Copy the crypto names from the original data
# YOUR CODE HERE!

# Set the coinid column as index
# YOUR CODE HERE!

# Display sample data
# YOUR CODE HERE!








# Create a list with the number of k-values to try
# Use a range from 1 to 11
# YOUR CODE HERE!


# Create an empy list to store the inertia values
# YOUR CODE HERE!


# Create a for loop to compute the inertia with each possible value of k
# Inside the loop:
# 1. Create a KMeans model using the loop counter for the n_clusters
# 2. Fit the model to the data using `df_market_data_pca`
# 3. Append the model.inertia_ to the inertia list
# YOUR CODE HERE!


# Create a dictionary with the data to plot the Elbow curve
# YOUR CODE HERE!

# Create a DataFrame with the data to plot the Elbow curve
# YOUR CODE HERE!


# Plot a line chart with all the inertia values computed with 
# the different values of k to visually identify the optimal value for k.
# YOUR CODE HERE!











# Initialize the K-Means model using the best value for k
# YOUR CODE HERE!


# Fit the K-Means model using the PCA data
# YOUR CODE HERE!


# Predict the clusters to group the cryptocurrencies using the PCA data
# YOUR CODE HERE!

# View the resulting array of cluster values.
# YOUR CODE HERE!


# Create a copy of the DataFrame with the PCA data
# YOUR CODE HERE!

# Add a new column to the DataFrame with the predicted clusters
# YOUR CODE HERE!

# Display sample data
# YOUR CODE HERE!


# Create a scatter plot using hvPlot by setting 
# `x="PC1"` and `y="PC2"`. 
# Color the graph points with the labels found using K-Means and 
# add the crypto name in the `hover_cols` parameter to identify 
# the cryptocurrency represented by each data point.
# YOUR CODE HERE!








# Composite plot to contrast the Elbow curves
# YOUR CODE HERE!


# Compoosite plot to contrast the clusters
# YOUR CODE HERE!



